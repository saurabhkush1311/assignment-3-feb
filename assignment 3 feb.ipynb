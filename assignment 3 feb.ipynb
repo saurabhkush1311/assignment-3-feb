{
 "cells": [
  {
   "cell_type": "code",
   "execution_count": 1,
   "id": "aac644f7-4758-4e2f-a1c0-547a62a4f1e0",
   "metadata": {},
   "outputs": [],
   "source": [
    "#Question 1:\n",
    "#Answer:\n",
    "# def keyword is used to create a function.\n",
    "def odd(l):\n",
    "    l1=[]\n",
    "    for i in l:\n",
    "        if i%2 != 0:\n",
    "            l1.append(i)\n",
    "    return l1"
   ]
  },
  {
   "cell_type": "code",
   "execution_count": 3,
   "id": "255310a2-b39e-475a-b373-0d10d1ae3999",
   "metadata": {},
   "outputs": [],
   "source": [
    "a=[1,2,3,4,5,6,7,8,9]"
   ]
  },
  {
   "cell_type": "code",
   "execution_count": 4,
   "id": "825aebf7-65e7-4268-8d48-c06acf5f096b",
   "metadata": {},
   "outputs": [
    {
     "data": {
      "text/plain": [
       "[1, 3, 5, 7, 9]"
      ]
     },
     "execution_count": 4,
     "metadata": {},
     "output_type": "execute_result"
    }
   ],
   "source": [
    "odd(a)"
   ]
  },
  {
   "cell_type": "code",
   "execution_count": 14,
   "id": "a93fa49a-6e30-481f-90fa-b8c65d4c1cef",
   "metadata": {},
   "outputs": [],
   "source": [
    "#Question 2:\n",
    "#Answer:\n",
    "#We use *args and **kwargs as an argument when we are unsure about the number of arguments to pass in the functions.\n",
    "#example of *args.\n",
    "def test(*args):\n",
    "    return args\n",
    "\n",
    "#example of kwargs\n",
    "def test1(**kwargs):\n",
    "    return kwargs"
   ]
  },
  {
   "cell_type": "code",
   "execution_count": 9,
   "id": "d0aa3da8-5423-4002-bffb-c2bd1c8ba4b1",
   "metadata": {},
   "outputs": [
    {
     "data": {
      "text/plain": [
       "(1, 2, 3, 'saurabh', 3.56)"
      ]
     },
     "execution_count": 9,
     "metadata": {},
     "output_type": "execute_result"
    }
   ],
   "source": [
    "test(1,2,3,\"saurabh\",3.56)"
   ]
  },
  {
   "cell_type": "code",
   "execution_count": 15,
   "id": "6bd1a556-a1e7-44e3-be6d-5cbe72eea3f1",
   "metadata": {},
   "outputs": [
    {
     "data": {
      "text/plain": [
       "{'a': 1, 'b': 3, 'c': 9}"
      ]
     },
     "execution_count": 15,
     "metadata": {},
     "output_type": "execute_result"
    }
   ],
   "source": [
    "test1(a=1,b=3,c=9)"
   ]
  },
  {
   "cell_type": "code",
   "execution_count": 6,
   "id": "ce5c1152-b80b-4af2-a17c-87129361c9a9",
   "metadata": {},
   "outputs": [
    {
     "name": "stdout",
     "output_type": "stream",
     "text": [
      "2\n",
      "4\n",
      "6\n",
      "8\n",
      "10\n"
     ]
    }
   ],
   "source": [
    "#Question 3:\n",
    "#Answer:\n",
    "#An iterator is an object that contains a countable number of values.\n",
    "# iter() is used to initialize iterator and next() is used for iteration\n",
    "l = [2, 4, 6, 8, 10, 12, 14,  16, 18, 20]\n",
    "t = iter(l)\n",
    "def five_elements(l):\n",
    "    for i in l:\n",
    "        yield i\n",
    "s = five_elements(l)\n",
    "for i in range(5):\n",
    "    print(next(s))\n",
    "    \n"
   ]
  },
  {
   "cell_type": "code",
   "execution_count": 7,
   "id": "c25a884c-ac05-447d-824a-1de4b234eb63",
   "metadata": {},
   "outputs": [
    {
     "name": "stdout",
     "output_type": "stream",
     "text": [
      "0\n",
      "1\n",
      "1\n",
      "2\n",
      "3\n",
      "5\n",
      "8\n",
      "13\n",
      "21\n",
      "34\n"
     ]
    }
   ],
   "source": [
    "#Question 4:\n",
    "#Answer: \n",
    "#generator is a function that returns an iterator that produces a sequence of values when iterated over.\n",
    "#The yield keyword in Python controls the flow of a generator function. This is similar to a return statement used for returning values in Python.\n",
    "def test_fib(n):\n",
    "    a,b = 0,1\n",
    "    for i in range(n):\n",
    "        yield a\n",
    "        a,b= b , a+b\n",
    "for i in test_fib(10):\n",
    "    print(i)"
   ]
  },
  {
   "cell_type": "code",
   "execution_count": 5,
   "id": "6dd93321-a07e-4f2b-bcc5-fe07c7ae92cd",
   "metadata": {},
   "outputs": [
    {
     "name": "stdout",
     "output_type": "stream",
     "text": [
      "[2, 3, 5, 7, 11, 13, 17, 19, 23, 29, 31, 37, 41, 43, 47, 53, 59, 61, 67, 71, 73, 79, 83, 89, 97, 101, 103, 107, 109, 113, 127, 131, 137, 139, 149, 151, 157, 163, 167, 173, 179, 181, 191, 193, 197, 199, 211, 223, 227, 229, 233, 239, 241, 251, 257, 263, 269, 271, 277, 281, 283, 293, 307, 311, 313, 317, 331, 337, 347, 349, 353, 359, 367, 373, 379, 383, 389, 397, 401, 409, 419, 421, 431, 433, 439, 443, 449, 457, 461, 463, 467, 479, 487, 491, 499, 503, 509, 521, 523, 541, 547, 557, 563, 569, 571, 577, 587, 593, 599, 601, 607, 613, 617, 619, 631, 641, 643, 647, 653, 659, 661, 673, 677, 683, 691, 701, 709, 719, 727, 733, 739, 743, 751, 757, 761, 769, 773, 787, 797, 809, 811, 821, 823, 827, 829, 839, 853, 857, 859, 863, 877, 881, 883, 887, 907, 911, 919, 929, 937, 941, 947, 953, 967, 971, 977, 983, 991, 997]\n",
      "FIRST 20 PRIME NUMBER USING NEXT FUNCTION\n",
      "2\n",
      "3\n",
      "5\n",
      "7\n",
      "11\n",
      "13\n",
      "17\n",
      "19\n",
      "23\n",
      "29\n",
      "31\n",
      "37\n",
      "41\n",
      "43\n",
      "47\n",
      "53\n",
      "59\n",
      "61\n",
      "67\n",
      "71\n"
     ]
    }
   ],
   "source": [
    "#Question 5:\n",
    "#Answer:\n",
    "def prime_num(n=1000):\n",
    "    for num in range(2,n):\n",
    "        if num>1:\n",
    "            for j in range(2,num):\n",
    "                if num%j == 0:\n",
    "                    break\n",
    "            else:\n",
    "                yield num\n",
    "l=prime_num()\n",
    "a = list(l)\n",
    "print(a)\n",
    "x=prime_num()\n",
    "print(\"FIRST 20 PRIME NUMBER USING NEXT FUNCTION\")\n",
    "for i in range(20):\n",
    "    print(next(x))"
   ]
  },
  {
   "cell_type": "code",
   "execution_count": 62,
   "id": "3d2e4686-77d7-4f8b-9a73-2cbfc83eaf82",
   "metadata": {},
   "outputs": [
    {
     "name": "stdout",
     "output_type": "stream",
     "text": [
      "0\n",
      "1\n",
      "1\n",
      "2\n",
      "3\n",
      "5\n",
      "8\n",
      "13\n",
      "21\n",
      "34\n"
     ]
    }
   ],
   "source": [
    "#Question 6:\n",
    "#Answer:\n",
    "n = 0\n",
    "a,b=0,1\n",
    "while n < 10:\n",
    "    print(a)\n",
    "    c=a+b\n",
    "    a=b\n",
    "    b=c\n",
    "    n = n+1"
   ]
  },
  {
   "cell_type": "code",
   "execution_count": 47,
   "id": "660f5698-ed26-4681-b957-e6ce368719d9",
   "metadata": {},
   "outputs": [
    {
     "data": {
      "text/plain": [
       "['p', 'w', 's', 'k', 'i', 'l', 'l', 's']"
      ]
     },
     "execution_count": 47,
     "metadata": {},
     "output_type": "execute_result"
    }
   ],
   "source": [
    "#Question 7:\n",
    "#Answer:\n",
    "s = \"pwskills\"\n",
    "[i for i in s]\n"
   ]
  },
  {
   "cell_type": "code",
   "execution_count": 55,
   "id": "bb5eedd8-f5fe-460b-8cca-3e82468df710",
   "metadata": {},
   "outputs": [
    {
     "name": "stdin",
     "output_type": "stream",
     "text": [
      "ENTER NUMBER TO CHECK PALINDROM OR NOT 123\n"
     ]
    },
    {
     "name": "stdout",
     "output_type": "stream",
     "text": [
      "NUMBER IS NOT PALINDROME\n"
     ]
    }
   ],
   "source": [
    "#Question 8:\n",
    "#Answer:\n",
    "num = int(input(\"ENTER NUMBER TO CHECK PALINDROM OR NOT\"))\n",
    "check = num\n",
    "rev = 0\n",
    "while num > 0:\n",
    "    digit = num%10\n",
    "    rev = (rev*10) + digit\n",
    "    num = num // 10\n",
    "    \n",
    "if check == rev:\n",
    "    print(\"NUMBER IS PALINDROME\")\n",
    "else:\n",
    "    print(\"NUMBER IS NOT PALINDROME\")\n"
   ]
  },
  {
   "cell_type": "code",
   "execution_count": 50,
   "id": "dd348543-e6c4-4eeb-8309-5cb56cbe1296",
   "metadata": {},
   "outputs": [
    {
     "data": {
      "text/plain": [
       "[1,\n",
       " 3,\n",
       " 5,\n",
       " 7,\n",
       " 9,\n",
       " 11,\n",
       " 13,\n",
       " 15,\n",
       " 17,\n",
       " 19,\n",
       " 21,\n",
       " 23,\n",
       " 25,\n",
       " 27,\n",
       " 29,\n",
       " 31,\n",
       " 33,\n",
       " 35,\n",
       " 37,\n",
       " 39,\n",
       " 41,\n",
       " 43,\n",
       " 45,\n",
       " 47,\n",
       " 49,\n",
       " 51,\n",
       " 53,\n",
       " 55,\n",
       " 57,\n",
       " 59,\n",
       " 61,\n",
       " 63,\n",
       " 65,\n",
       " 67,\n",
       " 69,\n",
       " 71,\n",
       " 73,\n",
       " 75,\n",
       " 77,\n",
       " 79,\n",
       " 81,\n",
       " 83,\n",
       " 85,\n",
       " 87,\n",
       " 89,\n",
       " 91,\n",
       " 93,\n",
       " 95,\n",
       " 97,\n",
       " 99]"
      ]
     },
     "execution_count": 50,
     "metadata": {},
     "output_type": "execute_result"
    }
   ],
   "source": [
    "#Question 9:\n",
    "#Answer:\n",
    "[i for i in range(101) if i%2!=0]"
   ]
  },
  {
   "cell_type": "code",
   "execution_count": null,
   "id": "0d6a8d9f-e4c0-4af9-a00a-3cb72b82ed61",
   "metadata": {},
   "outputs": [],
   "source": []
  }
 ],
 "metadata": {
  "kernelspec": {
   "display_name": "Python 3 (ipykernel)",
   "language": "python",
   "name": "python3"
  },
  "language_info": {
   "codemirror_mode": {
    "name": "ipython",
    "version": 3
   },
   "file_extension": ".py",
   "mimetype": "text/x-python",
   "name": "python",
   "nbconvert_exporter": "python",
   "pygments_lexer": "ipython3",
   "version": "3.10.8"
  }
 },
 "nbformat": 4,
 "nbformat_minor": 5
}
